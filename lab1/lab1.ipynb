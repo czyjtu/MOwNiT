{
 "cells": [
  {
   "cell_type": "markdown",
   "id": "nearby-stuart",
   "metadata": {},
   "source": [
    "# Zadanie 1"
   ]
  },
  {
   "cell_type": "code",
   "execution_count": 1,
   "id": "studied-duncan",
   "metadata": {},
   "outputs": [],
   "source": [
    "import numpy as np"
   ]
  },
  {
   "cell_type": "markdown",
   "id": "flush-integration",
   "metadata": {},
   "source": [
    "### 1. Proste sumowane\n"
   ]
  },
  {
   "cell_type": "code",
   "execution_count": 2,
   "id": "handed-government",
   "metadata": {},
   "outputs": [],
   "source": [
    "N = pow(10, 7)\n",
    "v = 0.53125\n",
    "tab = np.array([v for _ in range(N)], dtype='float32')"
   ]
  },
  {
   "cell_type": "code",
   "execution_count": 3,
   "id": "treated-sheriff",
   "metadata": {},
   "outputs": [],
   "source": [
    "def iter_sum(arr):\n",
    "    actual_sum = np.float32(0)\n",
    "    for x in tab:\n",
    "        actual_sum += x\n",
    "    \n",
    "    return actual_sum"
   ]
  },
  {
   "cell_type": "code",
   "execution_count": 4,
   "id": "elect-asthma",
   "metadata": {},
   "outputs": [],
   "source": [
    "actual_sum = iter_sum(tab)\n",
    "expected_sum = N*v\n",
    "numpy_sum = np.sum(tab)"
   ]
  },
  {
   "cell_type": "code",
   "execution_count": 5,
   "id": "governmental-oakland",
   "metadata": {},
   "outputs": [
    {
     "name": "stdout",
     "output_type": "stream",
     "text": [
      "Wynik prostego sumowania:              5030840.5\n",
      "Rzeczywista suma:                      5312500.0\n",
      "Wynik sumowania funkcji bibliotecznej: 5312500.0\n"
     ]
    }
   ],
   "source": [
    "print(\"Wynik prostego sumowania:              {}\".format(actual_sum))\n",
    "print(\"Rzeczywista suma:                      {}\".format(expected_sum))\n",
    "print(\"Wynik sumowania funkcji bibliotecznej: {}\".format(numpy_sum))"
   ]
  },
  {
   "cell_type": "markdown",
   "id": "differential-grill",
   "metadata": {},
   "source": [
    "### 2. Błąd względny i bezwględny"
   ]
  },
  {
   "cell_type": "code",
   "execution_count": 6,
   "id": "expanded-things",
   "metadata": {},
   "outputs": [],
   "source": [
    "absolute_err = abs(actual_sum - expected_sum)"
   ]
  },
  {
   "cell_type": "code",
   "execution_count": 7,
   "id": "virtual-tobago",
   "metadata": {},
   "outputs": [],
   "source": [
    "relative_err = absolute_err / actual_sum"
   ]
  },
  {
   "cell_type": "code",
   "execution_count": 8,
   "id": "specified-pharmacy",
   "metadata": {},
   "outputs": [
    {
     "name": "stdout",
     "output_type": "stream",
     "text": [
      "Błąd bezwzględny: 281659.5\n",
      "Błąd względny:    5.60%\n"
     ]
    }
   ],
   "source": [
    "print(\"Błąd bezwzględny: {}\".format(absolute_err))\n",
    "print(\"Błąd względny:    {:.2f}%\".format(100*relative_err))"
   ]
  },
  {
   "cell_type": "markdown",
   "id": "satellite-geography",
   "metadata": {},
   "source": [
    "### 3. Wzrost błędu w trakcie sumowania\n"
   ]
  },
  {
   "cell_type": "code",
   "execution_count": 9,
   "id": "current-password",
   "metadata": {},
   "outputs": [],
   "source": [
    "import matplotlib.pyplot as plt"
   ]
  },
  {
   "cell_type": "code",
   "execution_count": 10,
   "id": "quick-venue",
   "metadata": {},
   "outputs": [],
   "source": [
    "sum3 = np.float32(0)\n",
    "err_arr = []\n",
    "x_ax = []\n",
    "for i, x in enumerate(tab):\n",
    "    sum3 += x\n",
    "    if (i+1)%25000 == 0:\n",
    "        actual = i*tab[0]\n",
    "        err_arr.append(abs(sum3 - actual) / actual)\n",
    "        x_ax.append(i)"
   ]
  },
  {
   "cell_type": "code",
   "execution_count": 11,
   "id": "beneficial-banking",
   "metadata": {},
   "outputs": [
    {
     "data": {
      "image/png": "[encoded data removed]",
      "text/plain": [
       "<Figure size 432x288 with 1 Axes>"
      ]
     },
     "metadata": {
      "needs_background": "light"
     },
     "output_type": "display_data"
    }
   ],
   "source": [
    "plt.plot(x_ax, err_arr)\n",
    "plt.xlabel('iteration')\n",
    "plt.ylabel('relative error')\n",
    "plt.show()"
   ]
  },
  {
   "cell_type": "markdown",
   "id": "monetary-correlation",
   "metadata": {},
   "source": [
    "- Jak można zauważyć na wykresie, błąd względny w początkowej fazie sumowania (ok. pierwsze $10^6$ iteracji) wynosi 0. Dzieje się tak ponieważ różnica rzędów wielkości zmiennej akumulującej oraz liczby dodawanej nie jest wystarczająco duża, lecz w miarę wzrostu akumulatora różnica ta powoduje odcięcie namniej znaczących bitów liczby dodawanej, przez co wynik sumowania nie jest już dokładny."
   ]
  },
  {
   "cell_type": "markdown",
   "id": "judicial-small",
   "metadata": {},
   "source": [
    "### 4. Reurencyjny algorytm sumowania\n"
   ]
  },
  {
   "cell_type": "code",
   "execution_count": 12,
   "id": "incorporate-packing",
   "metadata": {},
   "outputs": [],
   "source": [
    "def rec_sum(arr):\n",
    "    if len(arr) == 1:\n",
    "        return arr[0]\n",
    "    \n",
    "    elif len(arr) == 2:\n",
    "        return arr[0] + arr[1]\n",
    "    \n",
    "    else:\n",
    "        return rec_sum(arr[: len(arr) // 2]) + rec_sum(arr[len(arr) // 2: ])\n",
    "        "
   ]
  },
  {
   "cell_type": "code",
   "execution_count": 13,
   "id": "going-makeup",
   "metadata": {},
   "outputs": [],
   "source": [
    "sum4 = rec_sum(tab)"
   ]
  },
  {
   "cell_type": "markdown",
   "id": "celtic-consideration",
   "metadata": {},
   "source": [
    "### 5. Błąd względny i bezwzględny"
   ]
  },
  {
   "cell_type": "code",
   "execution_count": 14,
   "id": "rubber-model",
   "metadata": {},
   "outputs": [],
   "source": [
    "abs_err4 = abs(sum4 - expected_sum)\n",
    "rel_err4 = abs_err4 / expected_sum"
   ]
  },
  {
   "cell_type": "code",
   "execution_count": 15,
   "id": "federal-proxy",
   "metadata": {},
   "outputs": [
    {
     "name": "stdout",
     "output_type": "stream",
     "text": [
      "Błąd bezwzględny: 0.0\n",
      "Błąd względny:    0.0%\n"
     ]
    }
   ],
   "source": [
    "print(\"Błąd bezwzględny: {}\".format(abs_err4))\n",
    "print(\"Błąd względny:    {}%\".format(100*rel_err4))"
   ]
  },
  {
   "cell_type": "markdown",
   "id": "latin-brave",
   "metadata": {},
   "source": [
    "- Błąd względny zmalał do 0. Stało się tak dlatego że w algorytmie sumowania rekurencyjnego dodajemy do siebie liczby o podobnych rzędach wielkości, co częsciowo rozwiązuje problem który występował w przypadku sumowania z akumulatorem, kosztem czasu wykonania. Należy także dodać że algorytm sumowania rekurencyjnego działa dobrze w naszym przypadku ponieważ wszystkie liczby w tablicy są jednakowego rzędu. Gdyby jednak zdarzyło się że na wejściu otrzymamy posortowaną tablicę liczb różniących się rzędem wielkości, błąd ponownie się pojawi jako że dodawane nadal będą liczby o znaczących różnicach w wielkości."
   ]
  },
  {
   "cell_type": "markdown",
   "id": "inner-neighbor",
   "metadata": {},
   "source": [
    "### 6. Czas działania"
   ]
  },
  {
   "cell_type": "code",
   "execution_count": 16,
   "id": "thick-bibliography",
   "metadata": {},
   "outputs": [],
   "source": [
    "import time"
   ]
  },
  {
   "cell_type": "code",
   "execution_count": 17,
   "id": "specified-mumbai",
   "metadata": {},
   "outputs": [],
   "source": [
    "start_iter = time.time()\n",
    "_ = iter_sum(tab)\n",
    "end_iter = time.time()\n",
    "\n",
    "iter_time = end_iter - start_iter"
   ]
  },
  {
   "cell_type": "code",
   "execution_count": 18,
   "id": "breeding-outline",
   "metadata": {},
   "outputs": [],
   "source": [
    "start_rec = time.time()\n",
    "_ = rec_sum(tab)\n",
    "end_rec = time.time()\n",
    "\n",
    "rec_time = end_rec - start_rec"
   ]
  },
  {
   "cell_type": "code",
   "execution_count": 19,
   "id": "starting-skirt",
   "metadata": {},
   "outputs": [
    {
     "name": "stdout",
     "output_type": "stream",
     "text": [
      "Czas sumowania iteracyjnego:   1.8499 s\n",
      "Czas sumowania rekurencyjnego: 7.8998 s\n"
     ]
    }
   ],
   "source": [
    "print(\"Czas sumowania iteracyjnego:   {:.4f} s\".format(iter_time))\n",
    "print(\"Czas sumowania rekurencyjnego: {:.4f} s\".format(rec_time))"
   ]
  },
  {
   "cell_type": "markdown",
   "id": "swiss-pathology",
   "metadata": {},
   "source": [
    "### 7. Przykładowe dane wejściowe dla których sumowanie rekurencyjne zwraca niezerowy błąd"
   ]
  },
  {
   "cell_type": "code",
   "execution_count": 20,
   "id": "controversial-hierarchy",
   "metadata": {},
   "outputs": [],
   "source": [
    "err = 0"
   ]
  },
  {
   "cell_type": "code",
   "execution_count": 22,
   "id": "filled-retirement",
   "metadata": {},
   "outputs": [],
   "source": [
    "n = 100\n",
    "start = 0.0001\n",
    "end = 10\n",
    "arr = np.linspace(start, end, n, dtype=np.float32)\n",
    "sum7 = rec_sum(arr)\n",
    "actual7 = np.sum(arr)"
   ]
  },
  {
   "cell_type": "code",
   "execution_count": 23,
   "id": "iraqi-nickel",
   "metadata": {
    "scrolled": true
   },
   "outputs": [
    {
     "name": "stdout",
     "output_type": "stream",
     "text": [
      "tablica:                     [9.9999997e-05 1.0110909e-01 2.0211819e-01 3.0312726e-01 4.0413636e-01\n",
      " 5.0514543e-01 6.0615456e-01 7.0716363e-01 8.0817270e-01 9.0918183e-01\n",
      " 1.0101910e+00 1.1112000e+00 1.2122091e+00 1.3132182e+00 1.4142272e+00\n",
      " 1.5152364e+00 1.6162455e+00 1.7172545e+00 1.8182636e+00 1.9192728e+00\n",
      " 2.0202818e+00 2.1212909e+00 2.2223001e+00 2.3233092e+00 2.4243181e+00\n",
      " 2.5253272e+00 2.6263363e+00 2.7273455e+00 2.8283546e+00 2.9293637e+00\n",
      " 3.0303726e+00 3.1313818e+00 3.2323909e+00 3.3334000e+00 3.4344091e+00\n",
      " 3.5354183e+00 3.6364272e+00 3.7374363e+00 3.8384454e+00 3.9394546e+00\n",
      " 4.0404634e+00 4.1414728e+00 4.2424817e+00 4.3434911e+00 4.4445000e+00\n",
      " 4.5455089e+00 4.6465182e+00 4.7475271e+00 4.8485365e+00 4.9495454e+00\n",
      " 5.0505548e+00 5.1515636e+00 5.2525725e+00 5.3535819e+00 5.4545908e+00\n",
      " 5.5556002e+00 5.6566091e+00 5.7576180e+00 5.8586273e+00 5.9596362e+00\n",
      " 6.0606456e+00 6.1616545e+00 6.2626638e+00 6.3636727e+00 6.4646816e+00\n",
      " 6.5656910e+00 6.6666999e+00 6.7677093e+00 6.8687181e+00 6.9697270e+00\n",
      " 7.0707364e+00 7.1717453e+00 7.2727547e+00 7.3737636e+00 7.4747729e+00\n",
      " 7.5757818e+00 7.6767907e+00 7.7778001e+00 7.8788090e+00 7.9798183e+00\n",
      " 8.0808277e+00 8.1818361e+00 8.2828455e+00 8.3838549e+00 8.4848633e+00\n",
      " 8.5858727e+00 8.6868820e+00 8.7878904e+00 8.8888998e+00 8.9899092e+00\n",
      " 9.0909185e+00 9.1919270e+00 9.2929363e+00 9.3939457e+00 9.4949541e+00\n",
      " 9.5959635e+00 9.6969728e+00 9.7979822e+00 9.8989906e+00 1.0000000e+01]\n",
      "Długość:                      200\n",
      "Rzeczywista suma:             500.0049743652344\n",
      "Suma wyliczona rekurencyjnie: 500.00500\n",
      "Błąd bezwzględny:             3.0517578125e-05\n"
     ]
    }
   ],
   "source": [
    "print(\n",
    "\"tablica:                     {}\\n\\\n",
    "Długość:                      {}\\n\\\n",
    "Rzeczywista suma:             {}\\n\\\n",
    "Suma wyliczona rekurencyjnie: {:.5f}\\n\\\n",
    "Błąd bezwzględny:             {}\".format(arr, 2*n, actual7, sum7, abs(sum7 - actual7)))"
   ]
  },
  {
   "cell_type": "markdown",
   "id": "alternate-concentration",
   "metadata": {},
   "source": [
    "# Zadanie 2. Algorytm Kahana\n"
   ]
  },
  {
   "cell_type": "code",
   "execution_count": 24,
   "id": "polished-values",
   "metadata": {},
   "outputs": [],
   "source": [
    "def kahan(arr):\n",
    "    err = np.float32(0)\n",
    "    suma = np.float32(0)\n",
    "\n",
    "    for number in arr:\n",
    "        y = number - err          # dodanie utraconej częsci z poprzedniej iteracji\n",
    "        temp = suma + y           # obliczenie nowej sumy (następuje utrata cyfr znaczących)\n",
    "        err =  (temp - suma) - y  # wyliczenie utraconej częsci z poprzedniego kroku (ze znakiem -)\n",
    "        suma = temp               \n",
    "    \n",
    "    return suma"
   ]
  },
  {
   "cell_type": "markdown",
   "id": "desirable-tender",
   "metadata": {},
   "source": [
    "### 1. Błąd względny i bezwględny"
   ]
  },
  {
   "cell_type": "code",
   "execution_count": 25,
   "id": "handmade-requirement",
   "metadata": {},
   "outputs": [],
   "source": [
    "sum5 = kahan(tab)"
   ]
  },
  {
   "cell_type": "code",
   "execution_count": 26,
   "id": "cutting-bryan",
   "metadata": {},
   "outputs": [],
   "source": [
    "abs_err5 = abs(sum5 - expected_sum)\n",
    "rel_err5 = abs_err5 / expected_sum"
   ]
  },
  {
   "cell_type": "code",
   "execution_count": 27,
   "id": "improved-terminal",
   "metadata": {},
   "outputs": [
    {
     "name": "stdout",
     "output_type": "stream",
     "text": [
      "Błąd bezwzględny: 0.0\n",
      "Błąd względny:    0.0%\n"
     ]
    }
   ],
   "source": [
    "print(\"Błąd bezwzględny: {}\".format(abs_err5))\n",
    "print(\"Błąd względny:    {}%\".format(rel_err5))"
   ]
  },
  {
   "cell_type": "markdown",
   "id": "cheap-animal",
   "metadata": {},
   "source": [
    "### 2. Dlaczego Algorytm Kahana ma lepsze własności numeryczne?"
   ]
  },
  {
   "cell_type": "markdown",
   "id": "better-microphone",
   "metadata": {},
   "source": [
    "Podczas dodawania małej liczby do dużej liczby (akumuatora) zdarza się że część najmniej znaczących bitów małej liczby zostanie odcięta (utrata cyfr znaczących). **Algorytm Kahana** redukuje błąd sumowania poprzez wyliczenie utraconej części małej liczby (zmienna **err**), oraz dodanie tej części do kolejnej liczby którą będziemy akumulować w naszym sumowaniu, co sprawia że jest on dokładniejszy niż proste sumowanie w którym utrata cyfr znaczących nie jest kompensowana."
   ]
  },
  {
   "cell_type": "markdown",
   "id": "satisfied-corporation",
   "metadata": {},
   "source": [
    "### 3. Czas działania"
   ]
  },
  {
   "cell_type": "code",
   "execution_count": 28,
   "id": "driving-acoustic",
   "metadata": {},
   "outputs": [],
   "source": [
    "start_kahan = time.time()\n",
    "_ = kahan(tab)\n",
    "end_kahan = time.time()\n",
    "\n",
    "kahan_time = end_kahan - start_kahan"
   ]
  },
  {
   "cell_type": "code",
   "execution_count": 29,
   "id": "subject-world",
   "metadata": {},
   "outputs": [
    {
     "name": "stdout",
     "output_type": "stream",
     "text": [
      "Czas sumowania algorytmem Kahana: 5.6124 s\n",
      "Czas sumowania rekurencyjnego:   7.8998 s\n"
     ]
    }
   ],
   "source": [
    "print(\"Czas sumowania algorytmem Kahana: {:.4f} s\".format(kahan_time))\n",
    "print(\"Czas sumowania rekurencyjnego:   {:.4f} s\".format(rec_time))"
   ]
  },
  {
   "cell_type": "markdown",
   "id": "north-influence",
   "metadata": {},
   "source": [
    "# Zadanie 3. Sumy częściowe"
   ]
  },
  {
   "cell_type": "code",
   "execution_count": 30,
   "id": "everyday-signature",
   "metadata": {},
   "outputs": [],
   "source": [
    "def dzeta(s, n, backward = False, fl = np.float32):\n",
    "    start = 1 + backward*(n - 1)\n",
    "    end = (not backward)*(n + 1) \n",
    "    step = backward*(-2) + 1\n",
    "    # backward=True -> range(n, 0, -1);  backward=False -> range(1, n+1, 1)\n",
    "    elements = [fl(1 / k**s) for k in range(start, end, step)]\n",
    "    actual_sum = fl(0)\n",
    "    for x in elements:\n",
    "        actual_sum += x\n",
    "    \n",
    "    return actual_sum"
   ]
  },
  {
   "cell_type": "code",
   "execution_count": 31,
   "id": "oriental-capacity",
   "metadata": {},
   "outputs": [],
   "source": [
    "def eta(s, n, backward = False, fl = np.float32):\n",
    "    start = 1 + backward*(n - 1)\n",
    "    end = (not backward)*(n + 1) \n",
    "    step = backward*(-2) + 1\n",
    "    # backward=True -> range(n, 0, -1);  backward=False -> range(1, n+1, 1)\n",
    "    elements = [fl((-1)**(k - 1) / k**s) for k in range(start, end, step)] \n",
    "    actual_sum = fl(0)\n",
    "    for x in elements:\n",
    "        actual_sum += x\n",
    "    \n",
    "    return actual_sum"
   ]
  },
  {
   "cell_type": "code",
   "execution_count": 32,
   "id": "biological-turkish",
   "metadata": {},
   "outputs": [],
   "source": [
    "s_arr = np.array([2, 3.36667, 5, 7.2, 10], dtype='float32')\n",
    "n_arr = np.array([50, 100, 200, 500, 1000], dtype='int')\n",
    "cartesian = [(s, n) for s in s_arr for n in n_arr]"
   ]
  },
  {
   "cell_type": "code",
   "execution_count": 33,
   "id": "abstract-daughter",
   "metadata": {},
   "outputs": [],
   "source": [
    "dzeta_elements = lambda s, n: [np.float64(1 / k**s) for k in range(1, n+1)]\n",
    "eta_elements = lambda s, n: [np.float64((-1)**(k - 1) / k**s) for k in range(1, n+1)]"
   ]
  },
  {
   "cell_type": "code",
   "execution_count": 34,
   "id": "widespread-eligibility",
   "metadata": {
    "scrolled": false
   },
   "outputs": [
    {
     "name": "stdout",
     "output_type": "stream",
     "text": [
      "\t\t\t Funkcja dzeta Riemana \t\t\t\t\t Funkcja eta Dirichleta\n",
      "\n",
      "\t\tsumowanie w przód \t sumowanie w tył \t\tsumowanie w przód \t sumowanie wstecz\n",
      "\n",
      "s=2.00000, n=50\n",
      "\n",
      "float32: \t1.6251329 \t\t 1.6251327 \t\t\t 0.82227099 \t\t 0.82227105\n",
      "float64:   \t1.625132733621529 \t 1.625132733621529 \t\t 0.822271031826029 \t 0.822271031826029\n",
      "numpy.sum() float64: \t 1.625132733621530 \t\t\t\t\t 0.822271031826029\n",
      "\n",
      "\n",
      "s=2.00000, n=100\n",
      "\n",
      "float32: \t1.6349840 \t\t 1.6349839 \t\t\t 0.82241750 \t\t 0.82241750\n",
      "float64:   \t1.634983900184892 \t 1.634983900184893 \t\t 0.822417533374129 \t 0.822417533374128\n",
      "numpy.sum() float64: \t 1.634983900184893 \t\t\t\t\t 0.822417533374128\n",
      "\n",
      "\n",
      "s=2.00000, n=200\n",
      "\n",
      "float32: \t1.6399467 \t\t 1.6399465 \t\t\t 0.82245469 \t\t 0.82245457\n",
      "float64:   \t1.639946546014997 \t 1.639946546014997 \t\t 0.822454595922551 \t 0.822454595922551\n",
      "numpy.sum() float64: \t 1.639946546014998 \t\t\t\t\t 0.822454595922551\n",
      "\n",
      "\n",
      "s=2.00000, n=500\n",
      "\n",
      "float32: \t1.6429360 \t\t 1.6429360 \t\t\t 0.82246536 \t\t 0.82246506\n",
      "float64:   \t1.642936065514894 \t 1.642936065514894 \t\t 0.822465037424096 \t 0.822465037424097\n",
      "numpy.sum() float64: \t 1.642936065514894 \t\t\t\t\t 0.822465037424097\n",
      "\n",
      "\n",
      "s=2.00000, n=1000\n",
      "\n",
      "float32: \t1.6439348 \t\t 1.6439345 \t\t\t 0.82246685 \t\t 0.82246655\n",
      "float64:   \t1.643934566681561 \t 1.643934566681560 \t\t 0.822466533924111 \t 0.822466533924113\n",
      "numpy.sum() float64: \t 1.643934566681560 \t\t\t\t\t 0.822466533924113\n",
      "\n",
      "\n",
      "s=3.36667, n=50\n",
      "\n",
      "float32: \t1.1428920 \t\t 1.1428919 \t\t\t 0.92132431 \t\t 0.92132431\n",
      "float64:   \t1.142891899620166 \t 1.142891899620166 \t\t 0.921324327145342 \t 0.921324327145342\n",
      "numpy.sum() float64: \t 1.142891899620166 \t\t\t\t\t 0.921324327145342\n",
      "\n",
      "\n",
      "s=3.36667, n=100\n",
      "\n",
      "float32: \t1.1429237 \t\t 1.1429235 \t\t\t 0.92132509 \t\t 0.92132515\n",
      "float64:   \t1.142923509585272 \t 1.142923509585272 \t\t 0.921325157262422 \t 0.921325157262423\n",
      "numpy.sum() float64: \t 1.142923509585271 \t\t\t\t\t 0.921325157262422\n",
      "\n",
      "\n",
      "s=3.36667, n=200\n",
      "\n",
      "float32: \t1.1429284 \t\t 1.1429297 \t\t\t 0.92132515 \t\t 0.92132521\n",
      "float64:   \t1.142929720480112 \t 1.142929720480112 \t\t 0.921325239216995 \t 0.921325239216996\n",
      "numpy.sum() float64: \t 1.142929720480111 \t\t\t\t\t 0.921325239216995\n",
      "\n",
      "\n",
      "s=3.36667, n=500\n",
      "\n",
      "float32: \t1.1429284 \t\t 1.1429310 \t\t\t 0.92132515 \t\t 0.92132527\n",
      "float64:   \t1.142931052713456 \t 1.142931052713456 \t\t 0.921325247690305 \t 0.921325247690305\n",
      "numpy.sum() float64: \t 1.142931052713456 \t\t\t\t\t 0.921325247690305\n",
      "\n",
      "\n",
      "s=3.36667, n=1000\n",
      "\n",
      "float32: \t1.1429284 \t\t 1.1429312 \t\t\t 0.92132515 \t\t 0.92132527\n",
      "float64:   \t1.142931191879258 \t 1.142931191879259 \t\t 0.921325248058941 \t 0.921325248058943\n",
      "numpy.sum() float64: \t 1.142931191879259 \t\t\t\t\t 0.921325248058942\n",
      "\n",
      "\n",
      "s=5.00000, n=50\n",
      "\n",
      "float32: \t1.0369275 \t\t 1.0369277 \t\t\t 0.97211981 \t\t 0.97211975\n",
      "float64:   \t1.036927716716712 \t 1.036927716716711 \t\t 0.972119768926798 \t 0.972119768926798\n",
      "numpy.sum() float64: \t 1.036927716716711 \t\t\t\t\t 0.972119768926798\n",
      "\n",
      "\n",
      "s=5.00000, n=100\n",
      "\n",
      "float32: \t1.0369275 \t\t 1.0369277 \t\t\t 0.97211981 \t\t 0.97211975\n",
      "float64:   \t1.036927752692955 \t 1.036927752692953 \t\t 0.972119770398159 \t 0.972119770398159\n",
      "numpy.sum() float64: \t 1.036927752692953 \t\t\t\t\t 0.972119770398159\n",
      "\n",
      "\n",
      "s=5.00000, n=200\n",
      "\n",
      "float32: \t1.0369275 \t\t 1.0369277 \t\t\t 0.97211981 \t\t 0.97211975\n",
      "float64:   \t1.036927754988678 \t 1.036927754988676 \t\t 0.972119770445367 \t 0.972119770445366\n",
      "numpy.sum() float64: \t 1.036927754988676 \t\t\t\t\t 0.972119770445366\n",
      "\n",
      "\n",
      "s=5.00000, n=500\n",
      "\n",
      "float32: \t1.0369275 \t\t 1.0369277 \t\t\t 0.97211981 \t\t 0.97211975\n",
      "float64:   \t1.036927755139386 \t 1.036927755139386 \t\t 0.972119770446895 \t 0.972119770446893\n",
      "numpy.sum() float64: \t 1.036927755139386 \t\t\t\t\t 0.972119770446893\n",
      "\n",
      "\n",
      "s=5.00000, n=1000\n",
      "\n",
      "float32: \t1.0369275 \t\t 1.0369277 \t\t\t 0.97211981 \t\t 0.97211975\n",
      "float64:   \t1.036927755143122 \t 1.036927755143120 \t\t 0.972119770446909 \t 0.972119770446909\n",
      "numpy.sum() float64: \t 1.036927755143120 \t\t\t\t\t 0.972119770446909\n",
      "\n",
      "\n",
      "s=7.20000, n=50\n",
      "\n",
      "float32: \t1.0072277 \t\t 1.0072277 \t\t\t 0.99352705 \t\t 0.99352700\n",
      "float64:   \t1.007227667468842 \t 1.007227667468843 \t\t 0.993526999829079 \t 0.993526999829079\n",
      "numpy.sum() float64: \t 1.007227667468843 \t\t\t\t\t 0.993526999829079\n",
      "\n",
      "\n",
      "s=7.20000, n=100\n",
      "\n",
      "float32: \t1.0072277 \t\t 1.0072277 \t\t\t 0.99352705 \t\t 0.99352700\n",
      "float64:   \t1.007227667473215 \t 1.007227667473215 \t\t 0.993526999829349 \t 0.993526999829348\n",
      "numpy.sum() float64: \t 1.007227667473215 \t\t\t\t\t 0.993526999829348\n",
      "\n",
      "\n",
      "s=7.20000, n=200\n",
      "\n",
      "float32: \t1.0072277 \t\t 1.0072277 \t\t\t 0.99352705 \t\t 0.99352700\n",
      "float64:   \t1.007227667473275 \t 1.007227667473277 \t\t 0.993526999829350 \t 0.993526999829350\n",
      "numpy.sum() float64: \t 1.007227667473277 \t\t\t\t\t 0.993526999829350\n",
      "\n",
      "\n",
      "s=7.20000, n=500\n",
      "\n",
      "float32: \t1.0072277 \t\t 1.0072277 \t\t\t 0.99352705 \t\t 0.99352700\n",
      "float64:   \t1.007227667473275 \t 1.007227667473277 \t\t 0.993526999829350 \t 0.993526999829350\n",
      "numpy.sum() float64: \t 1.007227667473277 \t\t\t\t\t 0.993526999829350\n",
      "\n",
      "\n",
      "s=7.20000, n=1000\n",
      "\n",
      "float32: \t1.0072277 \t\t 1.0072277 \t\t\t 0.99352705 \t\t 0.99352700\n",
      "float64:   \t1.007227667473275 \t 1.007227667473277 \t\t 0.993526999829350 \t 0.993526999829350\n",
      "numpy.sum() float64: \t 1.007227667473277 \t\t\t\t\t 0.993526999829350\n",
      "\n",
      "\n",
      "s=10.00000, n=50\n",
      "\n",
      "float32: \t1.0009946 \t\t 1.0009946 \t\t\t 0.99903953 \t\t 0.99903953\n",
      "float64:   \t1.000994575127818 \t 1.000994575127818 \t\t 0.999039507598272 \t 0.999039507598272\n",
      "numpy.sum() float64: \t 1.000994575127818 \t\t\t\t\t 0.999039507598272\n",
      "\n",
      "\n",
      "s=10.00000, n=100\n",
      "\n",
      "float32: \t1.0009946 \t\t 1.0009946 \t\t\t 0.99903953 \t\t 0.99903953\n",
      "float64:   \t1.000994575127818 \t 1.000994575127818 \t\t 0.999039507598272 \t 0.999039507598272\n",
      "numpy.sum() float64: \t 1.000994575127818 \t\t\t\t\t 0.999039507598272\n",
      "\n",
      "\n",
      "s=10.00000, n=200\n",
      "\n",
      "float32: \t1.0009946 \t\t 1.0009946 \t\t\t 0.99903953 \t\t 0.99903953\n",
      "float64:   \t1.000994575127818 \t 1.000994575127818 \t\t 0.999039507598272 \t 0.999039507598272\n",
      "numpy.sum() float64: \t 1.000994575127818 \t\t\t\t\t 0.999039507598272\n",
      "\n",
      "\n",
      "s=10.00000, n=500\n",
      "\n",
      "float32: \t1.0009946 \t\t 1.0009946 \t\t\t 0.99903953 \t\t 0.99903953\n",
      "float64:   \t1.000994575127818 \t 1.000994575127818 \t\t 0.999039507598272 \t 0.999039507598272\n",
      "numpy.sum() float64: \t 1.000994575127818 \t\t\t\t\t 0.999039507598272\n",
      "\n",
      "\n",
      "s=10.00000, n=1000\n",
      "\n",
      "float32: \t1.0009946 \t\t 1.0009946 \t\t\t 0.99903953 \t\t 0.99903953\n",
      "float64:   \t1.000994575127818 \t 1.000994575127818 \t\t 0.999039507598272 \t 0.999039507598272\n",
      "numpy.sum() float64: \t 1.000994575127818 \t\t\t\t\t 0.999039507598272\n",
      "\n",
      "\n"
     ]
    }
   ],
   "source": [
    "print(\"\\t\\t\\t Funkcja dzeta Riemana \\t\\t\\t\\t\\t Funkcja eta Dirichleta\\n\")\n",
    "print(\"\\t\\tsumowanie w przód \\t sumowanie w tył \\t\\tsumowanie w przód \\t sumowanie wstecz\\n\")\n",
    "for s, n in cartesian:\n",
    "    print(\"s={:.5f}, n={}\\n\".format(s, n))\n",
    "    print(\"float32: \\t{:8.7f} \\t\\t {:8.7f} \\t\\t\\t {:.8f} \\t\\t {:.8f}\".format(\n",
    "        dzeta(s,n), dzeta(s, n, backward=True), \n",
    "        eta(s,n), eta(s, n, backward=True)\n",
    "    ))\n",
    "    print(\"float64:   \\t{:.15f} \\t {:.15f} \\t\\t {:.15f} \\t {:.15f}\".format(\n",
    "        dzeta(s,n, fl=np.float64), dzeta(s, n, backward=True, fl=np.float64), \n",
    "        eta(s,n, fl=np.float64), eta(s, n, backward=True, fl=np.float64)\n",
    "    ))\n",
    "    print(\"numpy.sum() float64: \\t {:.15f} \\t\\t\\t\\t\\t {:.15f}\\n\\n\".format(\n",
    "        np.sum(dzeta_elements(s, n), dtype=np.float64),\n",
    "        np.sum(eta_elements(s, n), dtype=np.float64)\n",
    "    ))"
   ]
  },
  {
   "cell_type": "markdown",
   "id": "offshore-swing",
   "metadata": {},
   "source": [
    "- Porównując powyższe wyniki zauważyć można że w niektórych przypadkach wynik sumowania różnił się zależnie od tego czy sumowanie odbywało się w przód czy wstecz. Zakładając że wyniki zwracane przez funkcję biblioteczną numpy.sum() są precyzyjne, zauważyć można że to sumowanie wstecz daje wynik dokładniejszy.\n",
    "- Szacując względne błędy dla różnej kolejności sumowania 3 liczb, dowieść można że dodawanie liczb zmiennopozycyjnych nie jest działaniem łącznym, co sprawia że kolejność ich dodawania ma znaczenie. Co więcej analizując te błędy, zauważyć można że sumując ciąg liczb na moduł malejących w kolejności rosnącej, uzyskamy dokładniejszy wynik aniżeli sumowanie odbyłoby się zaczynając od liczb na moduł większych, co dodatkowo potwierdzają powyższe wyniki."
   ]
  }
 ],
 "metadata": {
  "kernelspec": {
   "display_name": "Python 3",
   "language": "python",
   "name": "python3"
  },
  "language_info": {
   "codemirror_mode": {
    "name": "ipython",
    "version": 3
   },
   "file_extension": ".py",
   "mimetype": "text/x-python",
   "name": "python",
   "nbconvert_exporter": "python",
   "pygments_lexer": "ipython3",
   "version": "3.7.9"
  }
 },
 "nbformat": 4,
 "nbformat_minor": 5
}
